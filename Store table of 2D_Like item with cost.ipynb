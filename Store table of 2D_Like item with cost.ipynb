{
 "cells": [
  {
   "cell_type": "code",
   "execution_count": 1,
   "id": "56fc3eca",
   "metadata": {},
   "outputs": [
    {
     "name": "stdout",
     "output_type": "stream",
     "text": [
      "How many items do you want to enter? 4\n",
      "Enter item name: suger\n",
      "Enter item cost: 700\n",
      "Enter item name: bear\n",
      "Enter item cost: 1000\n",
      "Enter item name: haney\n",
      "Enter item cost: 800\n",
      "Enter item name: water\n",
      "Enter item cost: 1060\n",
      "\n",
      "Items and their costs:\n",
      "suger: $700.00\n",
      "bear: $1000.00\n",
      "haney: $800.00\n",
      "water: $1060.00\n"
     ]
    }
   ],
   "source": [
    "num_items = int(input(\"How many items do you want to enter? \"))\n",
    "\n",
    "item_dict = {} # create an empty dictionary to store items and costs\n",
    "\n",
    "for i in range(num_items):\n",
    "    item = input(\"Enter item name: \")\n",
    "    cost = float(input(\"Enter item cost: \"))\n",
    "    item_dict[item] = cost # add the item and cost to the dictionary\n",
    "\n",
    "print(\"\\nItems and their costs:\")\n",
    "for item, cost in item_dict.items():\n",
    "    print(f\"{item}: ${cost:.2f}\")\n"
   ]
  },
  {
   "cell_type": "code",
   "execution_count": 2,
   "id": "331a51c1",
   "metadata": {},
   "outputs": [
    {
     "name": "stdout",
     "output_type": "stream",
     "text": [
      "Enter the number of items: 4\n",
      "Enter item 1: sug\n",
      "Enter cost for item 1: 400\n",
      "Enter item 2: rice\n",
      "Enter cost for item 2: 600\n",
      "Enter item 3: pot\n",
      "Enter cost for item 3: 300\n",
      "Enter item 4: casava\n",
      "Enter cost for item 4: 450\n",
      "Sorted items by cost:\n",
      "pot - $300.00\n",
      "sug - $400.00\n",
      "casava - $450.00\n",
      "rice - $600.00\n"
     ]
    }
   ],
   "source": [
    "n = int(input(\"Enter the number of items: \"))\n",
    "items = []\n",
    "for i in range(n):\n",
    "    item = input(f\"Enter item {i+1}: \")\n",
    "    cost = float(input(f\"Enter cost for item {i+1}: \"))\n",
    "    items.append((item, cost))\n",
    "\n",
    "# sort items based on their cost\n",
    "sorted_items = sorted(items, key=lambda x: x[1])\n",
    "\n",
    "# print the sorted items\n",
    "print(\"Sorted items by cost:\")\n",
    "for item in sorted_items:\n",
    "    print(f\"{item[0]} - ${item[1]:.2f}\")\n"
   ]
  },
  {
   "cell_type": "markdown",
   "id": "c0d9a11a",
   "metadata": {},
   "source": [
    "In this  above program, we first ask the user to enter the number of items they want to enter. We then use a for loop to prompt the user to enter each item and its corresponding cost, and store them in a list called items.\n",
    "\n",
    "After all the items have been entered, we sort the items list based on their cost using the sorted() function, and passing a lambda function as the key argument. This lambda function returns the cost of the item, which is used as the sorting key.\n",
    "\n",
    "Finally, we print the sorted items to the console by iterating over the sorted_items list and printing the item name and its corresponding cost using string formatting."
   ]
  },
  {
   "cell_type": "code",
   "execution_count": null,
   "id": "9d07a277",
   "metadata": {},
   "outputs": [],
   "source": []
  }
 ],
 "metadata": {
  "kernelspec": {
   "display_name": "Python 3 (ipykernel)",
   "language": "python",
   "name": "python3"
  },
  "language_info": {
   "codemirror_mode": {
    "name": "ipython",
    "version": 3
   },
   "file_extension": ".py",
   "mimetype": "text/x-python",
   "name": "python",
   "nbconvert_exporter": "python",
   "pygments_lexer": "ipython3",
   "version": "3.9.12"
  }
 },
 "nbformat": 4,
 "nbformat_minor": 5
}
